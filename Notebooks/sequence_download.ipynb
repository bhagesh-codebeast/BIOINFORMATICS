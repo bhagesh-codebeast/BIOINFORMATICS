{
 "cells": [
  {
   "cell_type": "markdown",
   "metadata": {},
   "source": [
    "# Sequence Downloading\n",
    "## Download Bioinformatics Sequences Using Biopython"
   ]
  },
  {
   "cell_type": "markdown",
   "metadata": {},
   "source": [
    "### Sequence Type : GenBank | Nucleotide"
   ]
  },
  {
   "cell_type": "code",
   "execution_count": 1,
   "metadata": {},
   "outputs": [],
   "source": [
    "from Bio import SeqIO, Entrez"
   ]
  },
  {
   "cell_type": "code",
   "execution_count": 2,
   "metadata": {},
   "outputs": [],
   "source": [
    "Entrez.email = \"yourmail@email.com\"\n",
    "fileformat   = \"genbank\"\n",
    "database     = \"protein\"\n",
    "ids          = \"19923\"\n",
    "retmode      = \"txt\"\n",
    "rettype      = \"gb\" #optional param"
   ]
  },
  {
   "cell_type": "markdown",
   "metadata": {},
   "source": [
    "See [List of input types](https://www.ncbi.nlm.nih.gov/books/NBK25499/#chapter4.EFetch)"
   ]
  },
  {
   "cell_type": "code",
   "execution_count": 3,
   "metadata": {},
   "outputs": [],
   "source": [
    "entrez_record = Entrez.efetch(db=database, \n",
    "                              id=ids,\n",
    "                              retmode=retmode, \n",
    "                              rettype=rettype) #optional param rettype\n",
    "\n",
    "genbank_record = SeqIO.read(entrez_record,\n",
    "                            fileformat)\n",
    "\n",
    "with open(\"Data/\"+ids+\".\"+rettype,\"w\") as gb:\n",
    "    SeqIO.write(genbank_record,gb,fileformat)"
   ]
  },
  {
   "cell_type": "markdown",
   "metadata": {},
   "source": [
    "### Sequence Type : Protein"
   ]
  },
  {
   "cell_type": "code",
   "execution_count": 4,
   "metadata": {},
   "outputs": [],
   "source": [
    "import urllib"
   ]
  },
  {
   "cell_type": "code",
   "execution_count": 5,
   "metadata": {},
   "outputs": [],
   "source": [
    "protid = '6YYT'"
   ]
  },
  {
   "cell_type": "code",
   "execution_count": 6,
   "metadata": {},
   "outputs": [
    {
     "data": {
      "text/plain": [
       "('Data/6YYT.pdb', <http.client.HTTPMessage at 0x25f53226430>)"
      ]
     },
     "execution_count": 6,
     "metadata": {},
     "output_type": "execute_result"
    }
   ],
   "source": [
    "urllib.request.urlretrieve('https://files.rcsb.org/download/'+protid+'.pdb',\n",
    "                           'Data/'+protid+'.pdb')"
   ]
  }
 ],
 "metadata": {
  "kernelspec": {
   "display_name": "Python 3",
   "language": "python",
   "name": "python3"
  },
  "language_info": {
   "codemirror_mode": {
    "name": "ipython",
    "version": 3
   },
   "file_extension": ".py",
   "mimetype": "text/x-python",
   "name": "python",
   "nbconvert_exporter": "python",
   "pygments_lexer": "ipython3",
   "version": "3.8.5"
  }
 },
 "nbformat": 4,
 "nbformat_minor": 4
}
