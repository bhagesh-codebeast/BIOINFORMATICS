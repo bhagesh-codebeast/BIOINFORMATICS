{
 "cells": [
  {
   "cell_type": "markdown",
   "metadata": {},
   "source": [
    "# Sequence Downloading\n",
    "## Download bioinformatics sequences using Biopython"
   ]
  },
  {
   "cell_type": "code",
   "execution_count": null,
   "metadata": {},
   "outputs": [],
   "source": [
    "from Bio import Entrez\n",
    "from Bio import SeqIO\n",
    "Entrez.email = \"763936021a@gmail.com\"  \n",
    "\n",
    "database = \"nucleotide\"\n",
    "search_term = \"myoglobin homo sapiens\"\n",
    "id_type = \"acc\"\n",
    "ret_max = 10\n",
    "\n",
    "acc_handle = Entrez.esearch(db=database, term=search_term, retmax=ret_max, idtype = id_type)\n",
    "record = Entrez.read(acc_handle)\n",
    "\n",
    "retrieved_ids = record[\"IdList\"]\n",
    "print(\"Retrieved accesion ids: \",retrieved_ids)"
   ]
  },
  {
   "cell_type": "code",
   "execution_count": null,
   "metadata": {},
   "outputs": [],
   "source": []
  },
  {
   "cell_type": "code",
   "execution_count": null,
   "metadata": {},
   "outputs": [],
   "source": []
  },
  {
   "cell_type": "code",
   "execution_count": null,
   "metadata": {},
   "outputs": [],
   "source": []
  },
  {
   "cell_type": "code",
   "execution_count": null,
   "metadata": {},
   "outputs": [],
   "source": []
  }
 ],
 "metadata": {
  "kernelspec": {
   "display_name": "Python 3",
   "language": "python",
   "name": "python3"
  },
  "language_info": {
   "codemirror_mode": {
    "name": "ipython",
    "version": 3
   },
   "file_extension": ".py",
   "mimetype": "text/x-python",
   "name": "python",
   "nbconvert_exporter": "python",
   "pygments_lexer": "ipython3",
   "version": "3.8.5"
  }
 },
 "nbformat": 4,
 "nbformat_minor": 4
}
