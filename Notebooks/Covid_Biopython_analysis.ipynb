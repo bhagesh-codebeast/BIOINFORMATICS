{
 "cells": [
  {
   "cell_type": "markdown",
   "metadata": {},
   "source": [
    "# Biopython Basics"
   ]
  },
  {
   "cell_type": "markdown",
   "metadata": {},
   "source": [
    "## Applications :"
   ]
  },
  {
   "cell_type": "markdown",
   "metadata": {},
   "source": [
    "<div class=\"alert alert-block alert-info\">\n",
    "    \n",
    "- **Sequence Analysis** (DNA/RNA/Protein)<br><br>\n",
    "    \n",
    "- **Transcription** & **translation studies**<br><br>\n",
    "    \n",
    "- Quering & accessing **Bioinformatics Databases**<br>\n",
    "a. **Entrez**<br>\n",
    "b. **PDB**<br>\n",
    "c. **Genbank**<br><br>\n",
    "\n",
    "- 3D **structure** analysis\n",
    "</div>"
   ]
  },
  {
   "cell_type": "markdown",
   "metadata": {},
   "source": [
    "## 1. Install modules & packages"
   ]
  },
  {
   "cell_type": "code",
   "execution_count": 1,
   "metadata": {},
   "outputs": [],
   "source": [
    "# !pip install pandas\n",
    "# !pip install nglview\n",
    "# !pip install biopython\n",
    "# !pip install matplotlib\n",
    "# !conda install -c rmg py3dmol -y\n",
    "# !pip install dna_features_viewer"
   ]
  },
  {
   "cell_type": "code",
   "execution_count": 2,
   "metadata": {},
   "outputs": [
    {
     "data": {
      "application/vnd.jupyter.widget-view+json": {
       "model_id": "585222c47ca6439f9e08900d08faeab4",
       "version_major": 2,
       "version_minor": 0
      },
      "text/plain": []
     },
     "metadata": {},
     "output_type": "display_data"
    }
   ],
   "source": [
    "import Bio\n",
    "import heapq\n",
    "import pylab\n",
    "import urllib\n",
    "import py3Dmol\n",
    "import pandas as pd\n",
    "import nglview as nv\n",
    "from Bio.Seq import Seq\n",
    "from Bio.Blast import NCBIWWW\n",
    "from Bio.Alphabet import IUPAC\n",
    "from collections import Counter\n",
    "from Bio.Data import CodonTable\n",
    "from Bio import SeqIO, SearchIO, Entrez\n",
    "from Bio.PDB import PDBParser,MMCIFParser\n",
    "from Bio.SeqUtils import GC,molecular_weight\n",
    "from dna_features_viewer import GraphicFeature, GraphicRecord\n",
    "from Bio.Alphabet import generic_dna,generic_rna,generic_protein"
   ]
  },
  {
   "cell_type": "code",
   "execution_count": 3,
   "metadata": {},
   "outputs": [
    {
     "data": {
      "text/plain": [
       "['Align',\n",
       " 'Alphabet',\n",
       " 'BiopythonDeprecationWarning',\n",
       " 'BiopythonExperimentalWarning',\n",
       " 'BiopythonParserWarning',\n",
       " 'BiopythonWarning',\n",
       " 'Blast',\n",
       " 'Data',\n",
       " 'Entrez',\n",
       " 'File',\n",
       " 'GenBank',\n",
       " 'MissingExternalDependencyError',\n",
       " 'MissingPythonDependencyError',\n",
       " 'PDB',\n",
       " 'SVDSuperimposer',\n",
       " 'SearchIO',\n",
       " 'Seq',\n",
       " 'SeqFeature',\n",
       " 'SeqIO',\n",
       " 'SeqRecord',\n",
       " 'SeqUtils',\n",
       " 'Sequencing',\n",
       " 'StreamModeError',\n",
       " 'SwissProt',\n",
       " '__builtins__',\n",
       " '__cached__',\n",
       " '__doc__',\n",
       " '__file__',\n",
       " '__loader__',\n",
       " '__name__',\n",
       " '__package__',\n",
       " '__path__',\n",
       " '__spec__',\n",
       " '__version__',\n",
       " '_parent_dir',\n",
       " 'os',\n",
       " 'warnings']"
      ]
     },
     "execution_count": 3,
     "metadata": {},
     "output_type": "execute_result"
    }
   ],
   "source": [
    "# Attributes of Biopython\n",
    "dir(Bio)"
   ]
  },
  {
   "cell_type": "markdown",
   "metadata": {},
   "source": [
    "## 2. Sequence analysis"
   ]
  },
  {
   "cell_type": "code",
   "execution_count": 4,
   "metadata": {},
   "outputs": [],
   "source": [
    "# dir(Seq)"
   ]
  },
  {
   "cell_type": "code",
   "execution_count": 5,
   "metadata": {},
   "outputs": [
    {
     "data": {
      "text/plain": [
       "Seq('ATATATATAGCGCGCGCGCTCTCTCGGAGAGAGAGAGGCGCGGCGCGCGCGCTT...AGA')"
      ]
     },
     "execution_count": 5,
     "metadata": {},
     "output_type": "execute_result"
    }
   ],
   "source": [
    "# DNA sequence\n",
    "\n",
    "dna = Seq('ATATATATAGCGCGCGCGCTCTCTCGGAGAGAGAGAGGCGCGGCGCGCGCGCTTCTCTGAGA')\n",
    "dna"
   ]
  },
  {
   "cell_type": "code",
   "execution_count": 6,
   "metadata": {},
   "outputs": [
    {
     "data": {
      "text/plain": [
       "Bio.Seq.Seq"
      ]
     },
     "execution_count": 6,
     "metadata": {},
     "output_type": "execute_result"
    }
   ],
   "source": [
    "# identify the type\n",
    "type(dna)"
   ]
  },
  {
   "cell_type": "code",
   "execution_count": 7,
   "metadata": {},
   "outputs": [
    {
     "data": {
      "text/plain": [
       "str"
      ]
     },
     "execution_count": 7,
     "metadata": {},
     "output_type": "execute_result"
    }
   ],
   "source": [
    "# converting sequence to string\n",
    "type(str(dna))"
   ]
  },
  {
   "cell_type": "code",
   "execution_count": 8,
   "metadata": {},
   "outputs": [
    {
     "data": {
      "text/plain": [
       "Bio.Alphabet.Alphabet"
      ]
     },
     "execution_count": 8,
     "metadata": {},
     "output_type": "execute_result"
    }
   ],
   "source": [
    "# converting sequence to alphabet\n",
    "type(dna.alphabet)"
   ]
  },
  {
   "cell_type": "markdown",
   "metadata": {},
   "source": [
    "2.1. Alphabet Types\n",
    "--\n",
    "<div class=\"alert alert-block alert-success\">\n",
    "- generic_dna/rna<br>\n",
    "- generic_proteins<br>\n",
    "- IUPACUnambiguousDNA (provides basic letters)<br>\n",
    "- IUPACAmbiguousDNA (provides for ambiguity letters for every possible situation)\n",
    "</div>\n",
    "\n",
    "    \n",
    "Use cases of Alphabets\n",
    "--\n",
    "\n",
    "<div class=\"alert alert-block alert-info\">\n",
    "- To identify the type of information contained by within a sequence object<br>\n",
    "- provides a mean of constraining the information<br>\n",
    "- facilitates sequence checking.<br>\n",
    "</div>"
   ]
  },
  {
   "cell_type": "code",
   "execution_count": 9,
   "metadata": {},
   "outputs": [],
   "source": [
    "seq1 = Seq('atgagtcagcagacatcagacgacg', generic_dna)\n",
    "seq2 = Seq('auauagcgccucgcgcggcgcauau', generic_rna)\n",
    "seq3 = Seq('atattatagcacacagacaggatct', IUPAC.unambiguous_dna)"
   ]
  },
  {
   "cell_type": "code",
   "execution_count": 10,
   "metadata": {},
   "outputs": [
    {
     "data": {
      "text/plain": [
       "DNAAlphabet()"
      ]
     },
     "execution_count": 10,
     "metadata": {},
     "output_type": "execute_result"
    }
   ],
   "source": [
    "seq1.alphabet"
   ]
  },
  {
   "cell_type": "code",
   "execution_count": 11,
   "metadata": {},
   "outputs": [
    {
     "data": {
      "text/plain": [
       "RNAAlphabet()"
      ]
     },
     "execution_count": 11,
     "metadata": {},
     "output_type": "execute_result"
    }
   ],
   "source": [
    "seq2.alphabet"
   ]
  },
  {
   "cell_type": "code",
   "execution_count": 12,
   "metadata": {},
   "outputs": [
    {
     "data": {
      "text/plain": [
       "IUPACUnambiguousDNA()"
      ]
     },
     "execution_count": 12,
     "metadata": {},
     "output_type": "execute_result"
    }
   ],
   "source": [
    "seq3.alphabet"
   ]
  },
  {
   "cell_type": "markdown",
   "metadata": {},
   "source": [
    "## 3. Sequence Manipulation<br>\n",
    "<div class=\"alert alert-block alert-success\">\n",
    "- indexing/slicing<br>\n",
    "- concatination<br>\n",
    "- codon search<br>\n",
    "- GC content<br>\n",
    "- complement<br>\n",
    "- transcription<br>\n",
    "- translation\n",
    "</div>"
   ]
  },
  {
   "cell_type": "code",
   "execution_count": 13,
   "metadata": {},
   "outputs": [],
   "source": [
    "dna_seq = Seq('ATATATATAGCGCGCGCGCTCTCTCGGAGAGAGAGAGGCGCGGCGCGCGCGCTTCTCTGAGA',generic_dna)"
   ]
  },
  {
   "cell_type": "code",
   "execution_count": 14,
   "metadata": {},
   "outputs": [
    {
     "data": {
      "text/plain": [
       "Seq('AT', DNAAlphabet())"
      ]
     },
     "execution_count": 14,
     "metadata": {},
     "output_type": "execute_result"
    }
   ],
   "source": [
    "# Indexing / slicing\n",
    "dna_seq[0:2]"
   ]
  },
  {
   "cell_type": "code",
   "execution_count": 15,
   "metadata": {},
   "outputs": [
    {
     "data": {
      "text/plain": [
       "Seq('ATATcgcg', DNAAlphabet())"
      ]
     },
     "execution_count": 15,
     "metadata": {},
     "output_type": "execute_result"
    }
   ],
   "source": [
    "# concatination\n",
    "dna_seq2 = Seq('cgcgcgtatattagaccagagcaca',generic_dna)\n",
    "\n",
    "dna_seq[0:4] + dna_seq2[0:4]"
   ]
  },
  {
   "cell_type": "code",
   "execution_count": 16,
   "metadata": {},
   "outputs": [
    {
     "data": {
      "text/plain": [
       "9"
      ]
     },
     "execution_count": 16,
     "metadata": {},
     "output_type": "execute_result"
    }
   ],
   "source": [
    "# codon search\n",
    "dna_seq.find('G')"
   ]
  },
  {
   "cell_type": "code",
   "execution_count": 17,
   "metadata": {},
   "outputs": [
    {
     "data": {
      "text/plain": [
       "27"
      ]
     },
     "execution_count": 17,
     "metadata": {},
     "output_type": "execute_result"
    }
   ],
   "source": [
    "dna_seq.find('AGA')"
   ]
  },
  {
   "cell_type": "code",
   "execution_count": 18,
   "metadata": {},
   "outputs": [
    {
     "data": {
      "text/plain": [
       "11"
      ]
     },
     "execution_count": 18,
     "metadata": {},
     "output_type": "execute_result"
    }
   ],
   "source": [
    "# codon count\n",
    "dna_seq.count('T')"
   ]
  },
  {
   "cell_type": "code",
   "execution_count": 19,
   "metadata": {},
   "outputs": [
    {
     "data": {
      "text/plain": [
       "62.903225806451616"
      ]
     },
     "execution_count": 19,
     "metadata": {},
     "output_type": "execute_result"
    }
   ],
   "source": [
    "# GC content\n",
    "(dna_seq.count('G') + dna_seq.count('C'))/(len(dna_seq)) * 100"
   ]
  },
  {
   "cell_type": "markdown",
   "metadata": {},
   "source": [
    "<center><b>OR </b></center>"
   ]
  },
  {
   "cell_type": "code",
   "execution_count": 20,
   "metadata": {},
   "outputs": [
    {
     "data": {
      "text/plain": [
       "62.903225806451616"
      ]
     },
     "execution_count": 20,
     "metadata": {},
     "output_type": "execute_result"
    }
   ],
   "source": [
    "GC(dna_seq)"
   ]
  },
  {
   "cell_type": "code",
   "execution_count": 21,
   "metadata": {},
   "outputs": [
    {
     "name": "stdout",
     "output_type": "stream",
     "text": [
      " sequence           = ATATATATAG\n",
      " complement         = TATATATATC\n",
      " reverse complement = CTATATATAT\n"
     ]
    }
   ],
   "source": [
    "# complement & reverse complement\n",
    "\n",
    "comp1 = dna_seq[0:10]\n",
    "comp2 = dna_seq[0:10].complement()\n",
    "comp3 = dna_seq[0:10].reverse_complement()\n",
    "\n",
    "print(f\" \\\n",
    "sequence           = {comp1}\\n \\\n",
    "complement         = {comp2}\\n \\\n",
    "reverse complement = {comp3}\")"
   ]
  },
  {
   "cell_type": "code",
   "execution_count": 22,
   "metadata": {},
   "outputs": [
    {
     "data": {
      "text/plain": [
       "19281.2389"
      ]
     },
     "execution_count": 22,
     "metadata": {},
     "output_type": "execute_result"
    }
   ],
   "source": [
    "# Calculating molecular weight of the sequence\n",
    "\n",
    "molecular_weight(dna_seq)"
   ]
  },
  {
   "cell_type": "markdown",
   "metadata": {},
   "source": [
    "## 3.1 Transcription & Translation\n",
    "\n",
    "<div class=\"alert alert-block alert-info\">\n",
    "- DNA > mRNA = transcription<br>\n",
    "- mRNA > amino acid = translation\n",
    "</div>"
   ]
  },
  {
   "cell_type": "code",
   "execution_count": 23,
   "metadata": {},
   "outputs": [
    {
     "data": {
      "text/plain": [
       "Seq('AUAUAUAUAG', RNAAlphabet())"
      ]
     },
     "execution_count": 23,
     "metadata": {},
     "output_type": "execute_result"
    }
   ],
   "source": [
    "mRNA = dna_seq.transcribe()\n",
    "mRNA[:10]"
   ]
  },
  {
   "cell_type": "code",
   "execution_count": 24,
   "metadata": {},
   "outputs": [
    {
     "name": "stderr",
     "output_type": "stream",
     "text": [
      "C:\\Users\\hunak\\anaconda3\\lib\\site-packages\\Bio\\Seq.py:2738: BiopythonWarning: Partial codon, len(sequence) not a multiple of three. Explicitly trim the sequence or add trailing N before translation. This may become an error in future.\n",
      "  warnings.warn(\n"
     ]
    },
    {
     "data": {
      "text/plain": [
       "Seq('ERGAARALL*', HasStopCodon(ExtendedIUPACProtein(), '*'))"
      ]
     },
     "execution_count": 24,
     "metadata": {},
     "output_type": "execute_result"
    }
   ],
   "source": [
    "protein = mRNA.translate()\n",
    "protein[-10:]"
   ]
  },
  {
   "cell_type": "code",
   "execution_count": 25,
   "metadata": {},
   "outputs": [
    {
     "data": {
      "text/plain": [
       "Seq('ERGAARALL$', HasStopCodon(ExtendedIUPACProtein(), '$'))"
      ]
     },
     "execution_count": 25,
     "metadata": {},
     "output_type": "execute_result"
    }
   ],
   "source": [
    "# change symbol for stop codon\n",
    "mRNA.translate(stop_symbol = '$')[-10:]"
   ]
  },
  {
   "cell_type": "code",
   "execution_count": 26,
   "metadata": {},
   "outputs": [
    {
     "data": {
      "text/plain": [
       "Seq('ATATATATAG', DNAAlphabet())"
      ]
     },
     "execution_count": 26,
     "metadata": {},
     "output_type": "execute_result"
    }
   ],
   "source": [
    "# reverse transcription\n",
    "\n",
    "mRNA.back_transcribe()[:10]"
   ]
  },
  {
   "cell_type": "markdown",
   "metadata": {},
   "source": [
    "### Can protein sequences be reverse translated ?\n",
    "<div class=\"alert alert-block alert-info\">\n",
    "<b>Note</b> : there is no function called `back_translate` so we'll make use of `back_transcribe`.\n",
    "</div>"
   ]
  },
  {
   "cell_type": "code",
   "execution_count": 27,
   "metadata": {
    "scrolled": true
   },
   "outputs": [
    {
     "ename": "ValueError",
     "evalue": "Proteins cannot be back transcribed!",
     "output_type": "error",
     "traceback": [
      "\u001b[1;31m---------------------------------------------------------------------------\u001b[0m",
      "\u001b[1;31mValueError\u001b[0m                                Traceback (most recent call last)",
      "\u001b[1;32m<ipython-input-27-de9748d9088b>\u001b[0m in \u001b[0;36m<module>\u001b[1;34m\u001b[0m\n\u001b[1;32m----> 1\u001b[1;33m \u001b[0mprotein\u001b[0m\u001b[1;33m.\u001b[0m\u001b[0mback_transcribe\u001b[0m\u001b[1;33m(\u001b[0m\u001b[1;33m)\u001b[0m\u001b[1;33m\u001b[0m\u001b[1;33m\u001b[0m\u001b[0m\n\u001b[0m",
      "\u001b[1;32m~\\anaconda3\\lib\\site-packages\\Bio\\Seq.py\u001b[0m in \u001b[0;36mback_transcribe\u001b[1;34m(self)\u001b[0m\n\u001b[0;32m   1056\u001b[0m         \u001b[0mbase\u001b[0m \u001b[1;33m=\u001b[0m \u001b[0mAlphabet\u001b[0m\u001b[1;33m.\u001b[0m\u001b[0m_get_base_alphabet\u001b[0m\u001b[1;33m(\u001b[0m\u001b[0mself\u001b[0m\u001b[1;33m.\u001b[0m\u001b[0malphabet\u001b[0m\u001b[1;33m)\u001b[0m\u001b[1;33m\u001b[0m\u001b[1;33m\u001b[0m\u001b[0m\n\u001b[0;32m   1057\u001b[0m         \u001b[1;32mif\u001b[0m \u001b[0misinstance\u001b[0m\u001b[1;33m(\u001b[0m\u001b[0mbase\u001b[0m\u001b[1;33m,\u001b[0m \u001b[0mAlphabet\u001b[0m\u001b[1;33m.\u001b[0m\u001b[0mProteinAlphabet\u001b[0m\u001b[1;33m)\u001b[0m\u001b[1;33m:\u001b[0m\u001b[1;33m\u001b[0m\u001b[1;33m\u001b[0m\u001b[0m\n\u001b[1;32m-> 1058\u001b[1;33m             \u001b[1;32mraise\u001b[0m \u001b[0mValueError\u001b[0m\u001b[1;33m(\u001b[0m\u001b[1;34m\"Proteins cannot be back transcribed!\"\u001b[0m\u001b[1;33m)\u001b[0m\u001b[1;33m\u001b[0m\u001b[1;33m\u001b[0m\u001b[0m\n\u001b[0m\u001b[0;32m   1059\u001b[0m         \u001b[1;32mif\u001b[0m \u001b[0misinstance\u001b[0m\u001b[1;33m(\u001b[0m\u001b[0mbase\u001b[0m\u001b[1;33m,\u001b[0m \u001b[0mAlphabet\u001b[0m\u001b[1;33m.\u001b[0m\u001b[0mDNAAlphabet\u001b[0m\u001b[1;33m)\u001b[0m\u001b[1;33m:\u001b[0m\u001b[1;33m\u001b[0m\u001b[1;33m\u001b[0m\u001b[0m\n\u001b[0;32m   1060\u001b[0m             \u001b[1;32mraise\u001b[0m \u001b[0mValueError\u001b[0m\u001b[1;33m(\u001b[0m\u001b[1;34m\"DNA cannot be back transcribed!\"\u001b[0m\u001b[1;33m)\u001b[0m\u001b[1;33m\u001b[0m\u001b[1;33m\u001b[0m\u001b[0m\n",
      "\u001b[1;31mValueError\u001b[0m: Proteins cannot be back transcribed!"
     ]
    }
   ],
   "source": [
    "protein.back_transcribe()"
   ]
  },
  {
   "cell_type": "markdown",
   "metadata": {},
   "source": [
    "### This error is true for all the biological life on earth too...\n",
    "<div class=\"alert alert-block alert-warning\">\n",
    "- we can't perform an exact \"reverse translation\" of course, since several amino acids are produced by the same codon. Note that if instead we started with the nucleotide sequence, then we could use Biopython's .transcribe() and .translate() functions to convert sequences from DNA to RNA and DNA to protein respectively.\n",
    "</div>"
   ]
  },
  {
   "cell_type": "markdown",
   "metadata": {},
   "source": [
    "## 3.1.1. Custom translation"
   ]
  },
  {
   "cell_type": "code",
   "execution_count": 28,
   "metadata": {},
   "outputs": [],
   "source": [
    "# function to translate any input sequence of any length\n",
    "\n",
    "translation_table = {\n",
    "    'ATA':'I', 'ATC':'I', 'ATT':'I', 'ATG':'M', \n",
    "    'ACA':'T', 'ACC':'T', 'ACG':'T', 'ACT':'T', \n",
    "    'AAC':'N', 'AAT':'N', 'AAA':'K', 'AAG':'K', \n",
    "    'AGC':'S', 'AGT':'S', 'AGA':'R', 'AGG':'R',                  \n",
    "    'CTA':'L', 'CTC':'L', 'CTG':'L', 'CTT':'L', \n",
    "    'CCA':'P', 'CCC':'P', 'CCG':'P', 'CCT':'P', \n",
    "    'CAC':'H', 'CAT':'H', 'CAA':'Q', 'CAG':'Q', \n",
    "    'CGA':'R', 'CGC':'R', 'CGG':'R', 'CGT':'R', \n",
    "    'GTA':'V', 'GTC':'V', 'GTG':'V', 'GTT':'V', \n",
    "    'GCA':'A', 'GCC':'A', 'GCG':'A', 'GCT':'A', \n",
    "    'GAC':'D', 'GAT':'D', 'GAA':'E', 'GAG':'E', \n",
    "    'GGA':'G', 'GGC':'G', 'GGG':'G', 'GGT':'G', \n",
    "    'TCA':'S', 'TCC':'S', 'TCG':'S', 'TCT':'S', \n",
    "    'TTC':'F', 'TTT':'F', 'TTA':'L', 'TTG':'L', \n",
    "    'TAC':'Y', 'TAT':'Y', 'TAA':'_', 'TAG':'_', \n",
    "    'TGC':'C', 'TGT':'C', 'TGA':'_', 'TGG':'W', \n",
    "}\n",
    "\n",
    "def translate(seq):\n",
    "    '''\n",
    "        translates sequence using the `translation_table`\n",
    "    '''\n",
    "    protein = ''\n",
    "    if len(seq)%3 == 0:\n",
    "        for i in range(0,len(seq),3):\n",
    "            codon = seq[i:i+3]\n",
    "            protein += translation_table[codon]\n",
    "    return protein\n",
    "    \n",
    "    "
   ]
  },
  {
   "cell_type": "code",
   "execution_count": 29,
   "metadata": {},
   "outputs": [
    {
     "data": {
      "text/plain": [
       "'IDL_'"
      ]
     },
     "execution_count": 29,
     "metadata": {},
     "output_type": "execute_result"
    }
   ],
   "source": [
    "translate('ATCGATCTCTGA')"
   ]
  },
  {
   "cell_type": "markdown",
   "metadata": {},
   "source": [
    "## 3.1.2. Builtin codon table"
   ]
  },
  {
   "cell_type": "markdown",
   "metadata": {},
   "source": [
    "### Unambiguous DNA"
   ]
  },
  {
   "cell_type": "code",
   "execution_count": 30,
   "metadata": {},
   "outputs": [
    {
     "name": "stdout",
     "output_type": "stream",
     "text": [
      "Table 1 Standard, SGC0\n",
      "\n",
      "  |  T      |  C      |  A      |  G      |\n",
      "--+---------+---------+---------+---------+--\n",
      "T | TTT F   | TCT S   | TAT Y   | TGT C   | T\n",
      "T | TTC F   | TCC S   | TAC Y   | TGC C   | C\n",
      "T | TTA L   | TCA S   | TAA Stop| TGA Stop| A\n",
      "T | TTG L(s)| TCG S   | TAG Stop| TGG W   | G\n",
      "--+---------+---------+---------+---------+--\n",
      "C | CTT L   | CCT P   | CAT H   | CGT R   | T\n",
      "C | CTC L   | CCC P   | CAC H   | CGC R   | C\n",
      "C | CTA L   | CCA P   | CAA Q   | CGA R   | A\n",
      "C | CTG L(s)| CCG P   | CAG Q   | CGG R   | G\n",
      "--+---------+---------+---------+---------+--\n",
      "A | ATT I   | ACT T   | AAT N   | AGT S   | T\n",
      "A | ATC I   | ACC T   | AAC N   | AGC S   | C\n",
      "A | ATA I   | ACA T   | AAA K   | AGA R   | A\n",
      "A | ATG M(s)| ACG T   | AAG K   | AGG R   | G\n",
      "--+---------+---------+---------+---------+--\n",
      "G | GTT V   | GCT A   | GAT D   | GGT G   | T\n",
      "G | GTC V   | GCC A   | GAC D   | GGC G   | C\n",
      "G | GTA V   | GCA A   | GAA E   | GGA G   | A\n",
      "G | GTG V   | GCG A   | GAG E   | GGG G   | G\n",
      "--+---------+---------+---------+---------+--\n"
     ]
    }
   ],
   "source": [
    "print(CodonTable.unambiguous_dna_by_name['Standard'])"
   ]
  },
  {
   "cell_type": "markdown",
   "metadata": {},
   "source": [
    "### Unambiguous RNA"
   ]
  },
  {
   "cell_type": "code",
   "execution_count": 31,
   "metadata": {},
   "outputs": [
    {
     "name": "stdout",
     "output_type": "stream",
     "text": [
      "Table 1 Standard, SGC0\n",
      "\n",
      "  |  U      |  C      |  A      |  G      |\n",
      "--+---------+---------+---------+---------+--\n",
      "U | UUU F   | UCU S   | UAU Y   | UGU C   | U\n",
      "U | UUC F   | UCC S   | UAC Y   | UGC C   | C\n",
      "U | UUA L   | UCA S   | UAA Stop| UGA Stop| A\n",
      "U | UUG L(s)| UCG S   | UAG Stop| UGG W   | G\n",
      "--+---------+---------+---------+---------+--\n",
      "C | CUU L   | CCU P   | CAU H   | CGU R   | U\n",
      "C | CUC L   | CCC P   | CAC H   | CGC R   | C\n",
      "C | CUA L   | CCA P   | CAA Q   | CGA R   | A\n",
      "C | CUG L(s)| CCG P   | CAG Q   | CGG R   | G\n",
      "--+---------+---------+---------+---------+--\n",
      "A | AUU I   | ACU T   | AAU N   | AGU S   | U\n",
      "A | AUC I   | ACC T   | AAC N   | AGC S   | C\n",
      "A | AUA I   | ACA T   | AAA K   | AGA R   | A\n",
      "A | AUG M(s)| ACG T   | AAG K   | AGG R   | G\n",
      "--+---------+---------+---------+---------+--\n",
      "G | GUU V   | GCU A   | GAU D   | GGU G   | U\n",
      "G | GUC V   | GCC A   | GAC D   | GGC G   | C\n",
      "G | GUA V   | GCA A   | GAA E   | GGA G   | A\n",
      "G | GUG V   | GCG A   | GAG E   | GGG G   | G\n",
      "--+---------+---------+---------+---------+--\n"
     ]
    }
   ],
   "source": [
    "print(CodonTable.unambiguous_rna_by_name['Standard'])"
   ]
  },
  {
   "cell_type": "code",
   "execution_count": 32,
   "metadata": {},
   "outputs": [],
   "source": [
    "# dir(CodonTable)"
   ]
  },
  {
   "cell_type": "markdown",
   "metadata": {},
   "source": [
    "## 4. Handling Sequence data (FASTA File)"
   ]
  },
  {
   "cell_type": "code",
   "execution_count": 33,
   "metadata": {},
   "outputs": [],
   "source": [
    "# Loading FASTA file\n",
    "seq_file = SeqIO.read(\"Data/sequence.fasta\", \"fasta\")"
   ]
  },
  {
   "cell_type": "markdown",
   "metadata": {},
   "source": [
    "## 4.1.  Sequence details"
   ]
  },
  {
   "cell_type": "code",
   "execution_count": 34,
   "metadata": {},
   "outputs": [
    {
     "data": {
      "text/plain": [
       "Bio.SeqRecord.SeqRecord"
      ]
     },
     "execution_count": 34,
     "metadata": {},
     "output_type": "execute_result"
    }
   ],
   "source": [
    "type(seq_file)"
   ]
  },
  {
   "cell_type": "code",
   "execution_count": 35,
   "metadata": {},
   "outputs": [
    {
     "name": "stdout",
     "output_type": "stream",
     "text": [
      "ID: MN908947.3\n",
      "Name: MN908947.3\n",
      "Description: MN908947.3 Severe acute respiratory syndrome coronavirus 2 isolate Wuhan-Hu-1, complete genome\n",
      "Number of features: 0\n",
      "Seq('ATTAAAGGTTTATACCTTCCCAGGTAACAAACCAACCAACTTTCGATCTCTTGT...AAA', SingleLetterAlphabet())\n"
     ]
    }
   ],
   "source": [
    "# list sequence details\n",
    "for record in SeqIO.parse(\"Data/sequence.fasta\",\"fasta\"):\n",
    "    print(record)"
   ]
  },
  {
   "cell_type": "code",
   "execution_count": 36,
   "metadata": {},
   "outputs": [
    {
     "name": "stdout",
     "output_type": "stream",
     "text": [
      "MN908947.3\n",
      "MN908947.3 Severe acute respiratory syndrome coronavirus 2 isolate Wuhan-Hu-1, complete genome\n"
     ]
    }
   ],
   "source": [
    "# list individula features\n",
    "for record in SeqIO.parse(\"Data/sequence.fasta\",\"fasta\"):\n",
    "    print(record.id)\n",
    "    print(record.description)"
   ]
  },
  {
   "cell_type": "code",
   "execution_count": 37,
   "metadata": {},
   "outputs": [
    {
     "data": {
      "text/plain": [
       "Seq('ATTAAAGGTTTATACCTTCCCAGGTAACAAACCAACCAACTTTCGATCTCTTGT...AAA', SingleLetterAlphabet())"
      ]
     },
     "execution_count": 37,
     "metadata": {},
     "output_type": "execute_result"
    }
   ],
   "source": [
    "# store sequence for later analysis\n",
    "\n",
    "seqfromfile = seq_file.seq\n",
    "seqfromfile"
   ]
  },
  {
   "cell_type": "markdown",
   "metadata": {},
   "source": [
    "### We can now perform `transcription` , `translation` or GC content calculation with this sequence as shown above."
   ]
  },
  {
   "cell_type": "code",
   "execution_count": 94,
   "metadata": {},
   "outputs": [
    {
     "data": {
      "text/plain": [
       "29903"
      ]
     },
     "execution_count": 94,
     "metadata": {},
     "output_type": "execute_result"
    }
   ],
   "source": [
    "len(seqfromfile)"
   ]
  },
  {
   "cell_type": "code",
   "execution_count": 95,
   "metadata": {},
   "outputs": [],
   "source": [
    "protein_seq = seqfromfile.translate()"
   ]
  },
  {
   "cell_type": "code",
   "execution_count": 96,
   "metadata": {},
   "outputs": [
    {
     "data": {
      "text/plain": [
       "9967"
      ]
     },
     "execution_count": 96,
     "metadata": {},
     "output_type": "execute_result"
    }
   ],
   "source": [
    "len(protein_seq)"
   ]
  },
  {
   "cell_type": "code",
   "execution_count": 75,
   "metadata": {
    "scrolled": true
   },
   "outputs": [
    {
     "data": {
      "text/plain": [
       "[('L', 886),\n",
       " ('S', 810),\n",
       " ('*', 774),\n",
       " ('T', 679),\n",
       " ('C', 635),\n",
       " ('F', 593),\n",
       " ('R', 558),\n",
       " ('V', 548),\n",
       " ('Y', 505),\n",
       " ('N', 472)]"
      ]
     },
     "execution_count": 75,
     "metadata": {},
     "output_type": "execute_result"
    }
   ],
   "source": [
    "# Listing the most common amino acids\n",
    "\n",
    "common_amino = Counter(protein_seq)\n",
    "common_amino.most_common(10)"
   ]
  },
  {
   "cell_type": "code",
   "execution_count": 85,
   "metadata": {},
   "outputs": [],
   "source": [
    "del common_amino['*']"
   ]
  },
  {
   "cell_type": "code",
   "execution_count": 83,
   "metadata": {},
   "outputs": [
    {
     "data": {
      "image/png": "[encoded data removed]",
      "text/plain": [
       "<Figure size 432x288 with 1 Axes>"
      ]
     },
     "metadata": {
      "needs_background": "light"
     },
     "output_type": "display_data"
    }
   ],
   "source": [
    "pylab.bar(common_amino.keys(),common_amino.values())\n",
    "\n",
    "pylab.title(\"%i protein sequences\\nLengths %i to %i\" \n",
    "            % (len(common_amino.values()), \n",
    "               min(common_amino.values()), \n",
    "               max(common_amino.values())))\n",
    "\n",
    "pylab.xlabel(\"Amino acid\")\n",
    "pylab.ylabel(\"frequency\")\n",
    "pylab.show()"
   ]
  },
  {
   "cell_type": "markdown",
   "metadata": {},
   "source": [
    "### Since stop codon * signifies end of a protein we can split the sequence using ( * )"
   ]
  },
  {
   "cell_type": "code",
   "execution_count": 42,
   "metadata": {},
   "outputs": [
    {
     "data": {
      "text/plain": [
       "['IKGLYLPR',\n",
       " 'QTNQLSISCRSVL',\n",
       " 'TNFKICVAVTRLHA',\n",
       " 'CTHAV',\n",
       " 'LITNYCR',\n",
       " 'QDTSNSSIFCRLLTVSSVLQPIISTSRFRPGVTER',\n",
       " 'DGEPCPWFQRENTRPTQFACFTGSRRARTWLWRLRGGGLIRGTSTS',\n",
       " 'RWHLWLSRS',\n",
       " 'KRRFAST',\n",
       " 'TALCVHQTFGCSNCTSWSCYG']"
      ]
     },
     "execution_count": 42,
     "metadata": {},
     "output_type": "execute_result"
    }
   ],
   "source": [
    "protein_list = [str(i) for i in protein_seq.split('*')]\n",
    "protein_list[:10]"
   ]
  },
  {
   "cell_type": "code",
   "execution_count": 43,
   "metadata": {},
   "outputs": [
    {
     "data": {
      "text/plain": [
       "190"
      ]
     },
     "execution_count": 43,
     "metadata": {},
     "output_type": "execute_result"
    }
   ],
   "source": [
    "# listing proteins greater than a given length\n",
    "\n",
    "large_proteins = [x for x in protein_list if len(x)> 10]\n",
    "len(large_proteins)"
   ]
  },
  {
   "cell_type": "code",
   "execution_count": 44,
   "metadata": {},
   "outputs": [
    {
     "data": {
      "text/html": [
       "<div>\n",
       "<style scoped>\n",
       "    .dataframe tbody tr th:only-of-type {\n",
       "        vertical-align: middle;\n",
       "    }\n",
       "\n",
       "    .dataframe tbody tr th {\n",
       "        vertical-align: top;\n",
       "    }\n",
       "\n",
       "    .dataframe thead th {\n",
       "        text-align: right;\n",
       "    }\n",
       "</style>\n",
       "<table border=\"1\" class=\"dataframe\">\n",
       "  <thead>\n",
       "    <tr style=\"text-align: right;\">\n",
       "      <th></th>\n",
       "      <th>protein_seq</th>\n",
       "    </tr>\n",
       "  </thead>\n",
       "  <tbody>\n",
       "    <tr>\n",
       "      <th>0</th>\n",
       "      <td>QTNQLSISCRSVL</td>\n",
       "    </tr>\n",
       "    <tr>\n",
       "      <th>1</th>\n",
       "      <td>TNFKICVAVTRLHA</td>\n",
       "    </tr>\n",
       "    <tr>\n",
       "      <th>2</th>\n",
       "      <td>QDTSNSSIFCRLLTVSSVLQPIISTSRFRPGVTER</td>\n",
       "    </tr>\n",
       "    <tr>\n",
       "      <th>3</th>\n",
       "      <td>DGEPCPWFQRENTRPTQFACFTGSRRARTWLWRLRGGGLIRGTSTS</td>\n",
       "    </tr>\n",
       "    <tr>\n",
       "      <th>4</th>\n",
       "      <td>TALCVHQTFGCSNCTSWSCYG</td>\n",
       "    </tr>\n",
       "  </tbody>\n",
       "</table>\n",
       "</div>"
      ],
      "text/plain": [
       "                                      protein_seq\n",
       "0                                   QTNQLSISCRSVL\n",
       "1                                  TNFKICVAVTRLHA\n",
       "2             QDTSNSSIFCRLLTVSSVLQPIISTSRFRPGVTER\n",
       "3  DGEPCPWFQRENTRPTQFACFTGSRRARTWLWRLRGGGLIRGTSTS\n",
       "4                           TALCVHQTFGCSNCTSWSCYG"
      ]
     },
     "execution_count": 44,
     "metadata": {},
     "output_type": "execute_result"
    }
   ],
   "source": [
    "# convert sequences to dataframe\n",
    "\n",
    "df = pd.DataFrame({'protein_seq':large_proteins})\n",
    "df.head()"
   ]
  },
  {
   "cell_type": "code",
   "execution_count": 45,
   "metadata": {},
   "outputs": [
    {
     "data": {
      "text/html": [
       "<div>\n",
       "<style scoped>\n",
       "    .dataframe tbody tr th:only-of-type {\n",
       "        vertical-align: middle;\n",
       "    }\n",
       "\n",
       "    .dataframe tbody tr th {\n",
       "        vertical-align: top;\n",
       "    }\n",
       "\n",
       "    .dataframe thead th {\n",
       "        text-align: right;\n",
       "    }\n",
       "</style>\n",
       "<table border=\"1\" class=\"dataframe\">\n",
       "  <thead>\n",
       "    <tr style=\"text-align: right;\">\n",
       "      <th></th>\n",
       "      <th>protein_seq</th>\n",
       "      <th>length</th>\n",
       "    </tr>\n",
       "  </thead>\n",
       "  <tbody>\n",
       "    <tr>\n",
       "      <th>0</th>\n",
       "      <td>QTNQLSISCRSVL</td>\n",
       "      <td>13</td>\n",
       "    </tr>\n",
       "    <tr>\n",
       "      <th>1</th>\n",
       "      <td>TNFKICVAVTRLHA</td>\n",
       "      <td>14</td>\n",
       "    </tr>\n",
       "    <tr>\n",
       "      <th>2</th>\n",
       "      <td>QDTSNSSIFCRLLTVSSVLQPIISTSRFRPGVTER</td>\n",
       "      <td>35</td>\n",
       "    </tr>\n",
       "    <tr>\n",
       "      <th>3</th>\n",
       "      <td>DGEPCPWFQRENTRPTQFACFTGSRRARTWLWRLRGGGLIRGTSTS</td>\n",
       "      <td>46</td>\n",
       "    </tr>\n",
       "    <tr>\n",
       "      <th>4</th>\n",
       "      <td>TALCVHQTFGCSNCTSWSCYG</td>\n",
       "      <td>21</td>\n",
       "    </tr>\n",
       "  </tbody>\n",
       "</table>\n",
       "</div>"
      ],
      "text/plain": [
       "                                      protein_seq  length\n",
       "0                                   QTNQLSISCRSVL      13\n",
       "1                                  TNFKICVAVTRLHA      14\n",
       "2             QDTSNSSIFCRLLTVSSVLQPIISTSRFRPGVTER      35\n",
       "3  DGEPCPWFQRENTRPTQFACFTGSRRARTWLWRLRGGGLIRGTSTS      46\n",
       "4                           TALCVHQTFGCSNCTSWSCYG      21"
      ]
     },
     "execution_count": 45,
     "metadata": {},
     "output_type": "execute_result"
    }
   ],
   "source": [
    "# add a new column with length\n",
    "df['length'] = df['protein_seq'].apply(len)\n",
    "df.head()"
   ]
  },
  {
   "cell_type": "code",
   "execution_count": 98,
   "metadata": {
    "scrolled": true
   },
   "outputs": [],
   "source": [
    "# # plot to visualise protein sequences based on length\n",
    "# pylab.hist(df.length, bins=20)\n",
    "# pylab.title(\"%i protein sequences\\nLengths %i to %i\" \\\n",
    "#             % (len(df.length), \n",
    "#                min(df.length), \n",
    "#                max(df.length)))\n",
    "# pylab.xlabel(\"Sequence length (bp)\")\n",
    "# pylab.ylabel(\"Count\")\n",
    "# pylab.show()"
   ]
  },
  {
   "cell_type": "code",
   "execution_count": 99,
   "metadata": {},
   "outputs": [
    {
     "data": {
      "text/html": [
       "<div>\n",
       "<style scoped>\n",
       "    .dataframe tbody tr th:only-of-type {\n",
       "        vertical-align: middle;\n",
       "    }\n",
       "\n",
       "    .dataframe tbody tr th {\n",
       "        vertical-align: top;\n",
       "    }\n",
       "\n",
       "    .dataframe thead th {\n",
       "        text-align: right;\n",
       "    }\n",
       "</style>\n",
       "<table border=\"1\" class=\"dataframe\">\n",
       "  <thead>\n",
       "    <tr style=\"text-align: right;\">\n",
       "      <th></th>\n",
       "      <th>protein_seq</th>\n",
       "      <th>length</th>\n",
       "    </tr>\n",
       "  </thead>\n",
       "  <tbody>\n",
       "    <tr>\n",
       "      <th>118</th>\n",
       "      <td>CTIVFKRVCGVSAARLTPCGTGTSTDVVYRAFDIYNDKVAGFAKFL...</td>\n",
       "      <td>2701</td>\n",
       "    </tr>\n",
       "    <tr>\n",
       "      <th>157</th>\n",
       "      <td>ASAQRSQITLHINELMDLFMRIFTIGTVTLKQGEIKDATPSDFVRA...</td>\n",
       "      <td>290</td>\n",
       "    </tr>\n",
       "    <tr>\n",
       "      <th>168</th>\n",
       "      <td>TNMKIILFLALITLATCELYHYQECVRGTTVLLKEPCSSGTYEGNS...</td>\n",
       "      <td>123</td>\n",
       "    </tr>\n",
       "    <tr>\n",
       "      <th>158</th>\n",
       "      <td>AQADEYELMYSFVSEETGTLIVNSVLLFLAFVVFLLVTLAILTALR...</td>\n",
       "      <td>83</td>\n",
       "    </tr>\n",
       "    <tr>\n",
       "      <th>167</th>\n",
       "      <td>QQMFHLVDFQVTIAEILLIIMRTFKVSIWNLDYIINLIIKNLSKSL...</td>\n",
       "      <td>63</td>\n",
       "    </tr>\n",
       "    <tr>\n",
       "      <th>3</th>\n",
       "      <td>DGEPCPWFQRENTRPTQFACFTGSRRARTWLWRLRGGGLIRGTSTS</td>\n",
       "      <td>46</td>\n",
       "    </tr>\n",
       "    <tr>\n",
       "      <th>93</th>\n",
       "      <td>TMLRCYFPKCSEKNNQGYTPLVVTHNFDFTFSFSPEYSMVFVLFFV</td>\n",
       "      <td>46</td>\n",
       "    </tr>\n",
       "    <tr>\n",
       "      <th>188</th>\n",
       "      <td>KSHHIFTEATRSTIECTVNNARESCLYGRALMCKINFSSAIPM</td>\n",
       "      <td>43</td>\n",
       "    </tr>\n",
       "    <tr>\n",
       "      <th>116</th>\n",
       "      <td>DVVYTHWYWSGNNSYTGSQYGSRILWWCIVLSVLPLPHRSSKS</td>\n",
       "      <td>43</td>\n",
       "    </tr>\n",
       "    <tr>\n",
       "      <th>182</th>\n",
       "      <td>LQTLAANCTICPQRFSVLRNVAHWHGSHTFGNVVDLHRCHQIG</td>\n",
       "      <td>43</td>\n",
       "    </tr>\n",
       "  </tbody>\n",
       "</table>\n",
       "</div>"
      ],
      "text/plain": [
       "                                           protein_seq  length\n",
       "118  CTIVFKRVCGVSAARLTPCGTGTSTDVVYRAFDIYNDKVAGFAKFL...    2701\n",
       "157  ASAQRSQITLHINELMDLFMRIFTIGTVTLKQGEIKDATPSDFVRA...     290\n",
       "168  TNMKIILFLALITLATCELYHYQECVRGTTVLLKEPCSSGTYEGNS...     123\n",
       "158  AQADEYELMYSFVSEETGTLIVNSVLLFLAFVVFLLVTLAILTALR...      83\n",
       "167  QQMFHLVDFQVTIAEILLIIMRTFKVSIWNLDYIINLIIKNLSKSL...      63\n",
       "3       DGEPCPWFQRENTRPTQFACFTGSRRARTWLWRLRGGGLIRGTSTS      46\n",
       "93      TMLRCYFPKCSEKNNQGYTPLVVTHNFDFTFSFSPEYSMVFVLFFV      46\n",
       "188        KSHHIFTEATRSTIECTVNNARESCLYGRALMCKINFSSAIPM      43\n",
       "116        DVVYTHWYWSGNNSYTGSQYGSRILWWCIVLSVLPLPHRSSKS      43\n",
       "182        LQTLAANCTICPQRFSVLRNVAHWHGSHTFGNVVDLHRCHQIG      43"
      ]
     },
     "execution_count": 99,
     "metadata": {},
     "output_type": "execute_result"
    }
   ],
   "source": [
    "#sort based on legth\n",
    "df.sort_values(by = ['length'], ascending = False)[:10]"
   ]
  },
  {
   "cell_type": "markdown",
   "metadata": {},
   "source": [
    "<CENTER><B>\n",
    "    OR\n",
    "    </B></CENTER>"
   ]
  },
  {
   "cell_type": "code",
   "execution_count": 100,
   "metadata": {},
   "outputs": [
    {
     "data": {
      "text/html": [
       "<div>\n",
       "<style scoped>\n",
       "    .dataframe tbody tr th:only-of-type {\n",
       "        vertical-align: middle;\n",
       "    }\n",
       "\n",
       "    .dataframe tbody tr th {\n",
       "        vertical-align: top;\n",
       "    }\n",
       "\n",
       "    .dataframe thead th {\n",
       "        text-align: right;\n",
       "    }\n",
       "</style>\n",
       "<table border=\"1\" class=\"dataframe\">\n",
       "  <thead>\n",
       "    <tr style=\"text-align: right;\">\n",
       "      <th></th>\n",
       "      <th>protein_seq</th>\n",
       "      <th>length</th>\n",
       "    </tr>\n",
       "  </thead>\n",
       "  <tbody>\n",
       "    <tr>\n",
       "      <th>118</th>\n",
       "      <td>CTIVFKRVCGVSAARLTPCGTGTSTDVVYRAFDIYNDKVAGFAKFL...</td>\n",
       "      <td>2701</td>\n",
       "    </tr>\n",
       "    <tr>\n",
       "      <th>157</th>\n",
       "      <td>ASAQRSQITLHINELMDLFMRIFTIGTVTLKQGEIKDATPSDFVRA...</td>\n",
       "      <td>290</td>\n",
       "    </tr>\n",
       "    <tr>\n",
       "      <th>168</th>\n",
       "      <td>TNMKIILFLALITLATCELYHYQECVRGTTVLLKEPCSSGTYEGNS...</td>\n",
       "      <td>123</td>\n",
       "    </tr>\n",
       "    <tr>\n",
       "      <th>158</th>\n",
       "      <td>AQADEYELMYSFVSEETGTLIVNSVLLFLAFVVFLLVTLAILTALR...</td>\n",
       "      <td>83</td>\n",
       "    </tr>\n",
       "    <tr>\n",
       "      <th>167</th>\n",
       "      <td>QQMFHLVDFQVTIAEILLIIMRTFKVSIWNLDYIINLIIKNLSKSL...</td>\n",
       "      <td>63</td>\n",
       "    </tr>\n",
       "    <tr>\n",
       "      <th>3</th>\n",
       "      <td>DGEPCPWFQRENTRPTQFACFTGSRRARTWLWRLRGGGLIRGTSTS</td>\n",
       "      <td>46</td>\n",
       "    </tr>\n",
       "    <tr>\n",
       "      <th>93</th>\n",
       "      <td>TMLRCYFPKCSEKNNQGYTPLVVTHNFDFTFSFSPEYSMVFVLFFV</td>\n",
       "      <td>46</td>\n",
       "    </tr>\n",
       "    <tr>\n",
       "      <th>116</th>\n",
       "      <td>DVVYTHWYWSGNNSYTGSQYGSRILWWCIVLSVLPLPHRSSKS</td>\n",
       "      <td>43</td>\n",
       "    </tr>\n",
       "    <tr>\n",
       "      <th>182</th>\n",
       "      <td>LQTLAANCTICPQRFSVLRNVAHWHGSHTFGNVVDLHRCHQIG</td>\n",
       "      <td>43</td>\n",
       "    </tr>\n",
       "    <tr>\n",
       "      <th>188</th>\n",
       "      <td>KSHHIFTEATRSTIECTVNNARESCLYGRALMCKINFSSAIPM</td>\n",
       "      <td>43</td>\n",
       "    </tr>\n",
       "  </tbody>\n",
       "</table>\n",
       "</div>"
      ],
      "text/plain": [
       "                                           protein_seq  length\n",
       "118  CTIVFKRVCGVSAARLTPCGTGTSTDVVYRAFDIYNDKVAGFAKFL...    2701\n",
       "157  ASAQRSQITLHINELMDLFMRIFTIGTVTLKQGEIKDATPSDFVRA...     290\n",
       "168  TNMKIILFLALITLATCELYHYQECVRGTTVLLKEPCSSGTYEGNS...     123\n",
       "158  AQADEYELMYSFVSEETGTLIVNSVLLFLAFVVFLLVTLAILTALR...      83\n",
       "167  QQMFHLVDFQVTIAEILLIIMRTFKVSIWNLDYIINLIIKNLSKSL...      63\n",
       "3       DGEPCPWFQRENTRPTQFACFTGSRRARTWLWRLRGGGLIRGTSTS      46\n",
       "93      TMLRCYFPKCSEKNNQGYTPLVVTHNFDFTFSFSPEYSMVFVLFFV      46\n",
       "116        DVVYTHWYWSGNNSYTGSQYGSRILWWCIVLSVLPLPHRSSKS      43\n",
       "182        LQTLAANCTICPQRFSVLRNVAHWHGSHTFGNVVDLHRCHQIG      43\n",
       "188        KSHHIFTEATRSTIECTVNNARESCLYGRALMCKINFSSAIPM      43"
      ]
     },
     "execution_count": 100,
     "metadata": {},
     "output_type": "execute_result"
    }
   ],
   "source": [
    "df.nlargest(10,'length')"
   ]
  },
  {
   "cell_type": "markdown",
   "metadata": {},
   "source": [
    "## 5. Basic local alignment using NCBI-BLAST"
   ]
  },
  {
   "cell_type": "code",
   "execution_count": 101,
   "metadata": {},
   "outputs": [],
   "source": [
    "# let's take a single protein from the table\n",
    "\n",
    "one_large_protein = df.nlargest(1,'length')\n",
    "single_prot = one_large_protein.iloc[0,0]\n",
    "\n",
    "# write to a file\n",
    "with open(\"Data/single_seq.fasta\",\"w\") as file:\n",
    "    file.write(\">unknown \\n\"+single_prot)"
   ]
  },
  {
   "cell_type": "code",
   "execution_count": 102,
   "metadata": {},
   "outputs": [
    {
     "data": {
      "text/plain": [
       "Seq('CTIVFKRVCGVSAARLTPCGTGTSTDVVYRAFDIYNDKVAGFAKFLKTNCCRFQ...VNN', SingleLetterAlphabet())"
      ]
     },
     "execution_count": 102,
     "metadata": {},
     "output_type": "execute_result"
    }
   ],
   "source": [
    "from Bio import SeqIO\n",
    "read = SeqIO.read(\"single_seq.fasta\", \"fasta\")\n",
    "read.seq"
   ]
  },
  {
   "cell_type": "code",
   "execution_count": 103,
   "metadata": {},
   "outputs": [
    {
     "name": "stdout",
     "output_type": "stream",
     "text": [
      "Wall time: 1min 6s\n"
     ]
    }
   ],
   "source": [
    "%%time\n",
    "# based on the internet speed this query might take 2-5 minutes to run\n",
    "result_handle = NCBIWWW.qblast(\"blastp\",\"pdb\",read.seq)"
   ]
  },
  {
   "cell_type": "code",
   "execution_count": 104,
   "metadata": {},
   "outputs": [],
   "source": [
    "blast_qresult = SearchIO.read(result_handle, \"blast-xml\")"
   ]
  },
  {
   "cell_type": "code",
   "execution_count": 105,
   "metadata": {},
   "outputs": [
    {
     "name": "stdout",
     "output_type": "stream",
     "text": [
      "Program: blastp (2.10.1+)\n",
      "  Query: unnamed (2701)\n",
      "         protein product\n",
      " Target: pdb\n",
      "   Hits: ----  -----  ----------------------------------------------------------\n",
      "            #  # HSP  ID + description\n",
      "         ----  -----  ----------------------------------------------------------\n",
      "            0      1  pdb|6YYT|A  Chain A, nsp12 [Severe acute respiratory sy...\n",
      "            1      1  pdb|6XEZ|A  Chain A, nsp12 [Severe acute respiratory sy...\n",
      "            2      1  pdb|7BW4|A  Chain A, nsp12 [Severe acute respiratory sy...\n",
      "            3      1  pdb|6X2G|A  Chain A, RNA-directed RNA polymerase [Sever...\n",
      "            4      1  pdb|7BV1|A  Chain A, nsp12 [Severe acute respiratory sy...\n",
      "            5      1  pdb|7C2K|A  Chain A, RNA-directed RNA polymerase [Sever...\n",
      "            6      1  pdb|6M71|A  Chain A, SARS-Cov-2 NSP 12 [Severe acute re...\n",
      "            7      1  pdb|6NUR|A  Chain A, NSP12 [Severe acute respiratory sy...\n",
      "            8      1  pdb|6ZSL|A  Chain A, SARS-CoV-2 helicase NSP13 [Severe ...\n",
      "            9      1  pdb|6XEZ|E  Chain E, nsp13 [Severe acute respiratory sy...\n",
      "           10      1  pdb|6JYT|A  Chain A, Helicase [Severe acute respiratory...\n",
      "           11      1  pdb|5C8S|B  Chain B, Guanine-n7 Methyltransferase [Seve...\n",
      "           12      1  pdb|5C8T|B  Chain B, Guanine-n7 Methyltransferase [Seve...\n",
      "           13      1  pdb|5NFY|A  Chain A, Polyprotein 1ab [SARS coronavirus ...\n",
      "           14      1  pdb|5WWP|A  Chain A, Orf1ab [Human betacoronavirus 2c E...\n",
      "           15      1  pdb|6VWW|A  Chain A, Uridylate-specific endoribonucleas...\n",
      "           16      1  pdb|6XDH|A  Chain A, Uridylate-specific endoribonucleas...\n",
      "           17      1  pdb|2OZK|A  Chain A, Structure Of An N-Terminal Truncat...\n",
      "           18      1  pdb|2RHB|A  Chain A, Crystal Structure Of Nsp15-H234a M...\n",
      "           19      1  pdb|2H85|A  Chain A, Putative Orf1ab Polyprotein [Sever...\n",
      "           20      1  pdb|6YZ1|A  Chain A, nsp16 [Severe acute respiratory sy...\n",
      "           21      1  pdb|7C2I|A  Chain A, Replicase polyprotein 1ab [Severe ...\n",
      "           22      1  pdb|7BQ7|A  Chain A, SARS-CoV-2 nsp16 [Severe acute res...\n",
      "           23      1  pdb|6W4H|A  Chain A, SARS-CoV-2 NSP16 [Severe acute res...\n",
      "           24      1  pdb|6W61|A  Chain A, 2'-O-methyltransferase [Severe acu...\n",
      "           25      1  pdb|3R24|A  Chain A, 2'-O-methyl transferase [Severe ac...\n",
      "           26      1  pdb|2XYR|A  Chain A, PUTATIVE 2'-O-METHYL TRANSFERASE [...\n",
      "           27      1  pdb|2XYQ|A  Chain A, PUTATIVE 2'-O-METHYL TRANSFERASE [...\n",
      "           28      1  pdb|5YN5|A  Chain A, nsp16 protein [Human betacoronavir...\n",
      "           29      1  pdb|5YVD|A  Chain A, Nsp15 [Middle East respiratory syn...\n",
      "           ~~~\n",
      "           47      2  pdb|5MQF|U  Chain U, Intron-binding protein aquarius [H...\n",
      "           48      2  pdb|4PJ3|A  Chain A, Intron-binding protein aquarius [H...\n",
      "           49      1  pdb|2WJV|A  Chain A, Regulator Of Nonsense Transcripts ...\n"
     ]
    }
   ],
   "source": [
    "print(blast_qresult)"
   ]
  },
  {
   "cell_type": "code",
   "execution_count": 106,
   "metadata": {},
   "outputs": [
    {
     "name": "stdout",
     "output_type": "stream",
     "text": [
      "Sequence ID:pdb|6YYT|A\n",
      "description:Chain A, nsp12 [Severe acute respiratory syndrome coronavirus 2]\n",
      "E value:    0.0 \n",
      "Bit Score:  1938.31\n",
      "\n"
     ]
    }
   ],
   "source": [
    "#fetch the id, description, evalue, bitscore & alignment of first hit\n",
    "seqid = blast_qresult[0]\n",
    "details = seqid[0]\n",
    "print(f\"\\\n",
    "Sequence ID:{seqid.id}\\n\\\n",
    "description:{seqid.description}\\n\\\n",
    "E value:    {details.evalue} \\n\\\n",
    "Bit Score:  {details.bitscore}\\n\\\n",
    "\")"
   ]
  },
  {
   "cell_type": "code",
   "execution_count": 107,
   "metadata": {},
   "outputs": [
    {
     "name": "stdout",
     "output_type": "stream",
     "text": [
      "alignment:\n",
      "ProteinAlphabet() alignment with 2 rows and 925 columns\n",
      "FKRVCGVSAARLTPCGTGTSTDVVYRAFDIYNDKVAGFAKFLKT...VLQ unnamed\n",
      "LNRVCGVSAARLTPCGTGTSTDVVYRAFDIYNDKVAGFAKFLKT...VLQ pdb|6YYT|A\n"
     ]
    }
   ],
   "source": [
    "print(f\"alignment:\\n{details.aln}\")"
   ]
  },
  {
   "cell_type": "code",
   "execution_count": 108,
   "metadata": {},
   "outputs": [
    {
     "data": {
      "text/plain": [
       "'6YYT'"
      ]
     },
     "execution_count": 108,
     "metadata": {},
     "output_type": "execute_result"
    }
   ],
   "source": [
    "pdbid = seqid.id.split('|')[1]\n",
    "pdbid"
   ]
  },
  {
   "cell_type": "markdown",
   "metadata": {},
   "source": [
    "## Optional"
   ]
  },
  {
   "cell_type": "markdown",
   "metadata": {},
   "source": [
    "## 5.1. Entrez"
   ]
  },
  {
   "cell_type": "code",
   "execution_count": 109,
   "metadata": {},
   "outputs": [],
   "source": [
    "Entrez.email = \"yourmail@email.com\""
   ]
  },
  {
   "cell_type": "code",
   "execution_count": 110,
   "metadata": {},
   "outputs": [
    {
     "name": "stderr",
     "output_type": "stream",
     "text": [
      "C:\\Users\\hunak\\anaconda3\\lib\\site-packages\\Bio\\GenBank\\__init__.py:1139: BiopythonParserWarning: Dropping bond qualifier in feature location\n",
      "  warnings.warn(\n"
     ]
    }
   ],
   "source": [
    "entrez_record = Entrez.efetch(db=\"protein\", id=seqid.id,\n",
    "                       retmode=\"txt\", rettype=\"gb\")\n",
    "genbank_record = SeqIO.read(entrez_record,\"genbank\")"
   ]
  },
  {
   "cell_type": "code",
   "execution_count": 111,
   "metadata": {
    "scrolled": true
   },
   "outputs": [],
   "source": [
    "with open(\"Data/genbank_record.txt\",\"w\") as gb:\n",
    "    gb.write(str(genbank_record))"
   ]
  },
  {
   "cell_type": "markdown",
   "metadata": {},
   "source": [
    "#### There's a lot of information in the genbank record if you know where to find it..."
   ]
  },
  {
   "cell_type": "markdown",
   "metadata": {},
   "source": [
    "<div class=\"alert alert-block alert-warning\">\n",
    "<b>0. Is it single or double stranded and a DNA or RNA ?</b> In case of DNA"
   ]
  },
  {
   "cell_type": "code",
   "execution_count": 112,
   "metadata": {},
   "outputs": [],
   "source": [
    "# IN CASE OF DNA\n",
    "#       genbank_record.annotations[\"molecule\"])"
   ]
  },
  {
   "cell_type": "markdown",
   "metadata": {},
   "source": [
    "<div class=\"alert alert-block alert-warning\">\n",
    "<b>1. What is the full NCBI taxonomy of this virus?"
   ]
  },
  {
   "cell_type": "code",
   "execution_count": 113,
   "metadata": {},
   "outputs": [
    {
     "data": {
      "text/plain": [
       "['Viruses',\n",
       " 'Riboviria',\n",
       " 'Orthornavirae',\n",
       " 'Pisuviricota',\n",
       " 'Pisoniviricetes',\n",
       " 'Nidovirales',\n",
       " 'Cornidovirineae',\n",
       " 'Coronaviridae',\n",
       " 'Orthocoronavirinae',\n",
       " 'Betacoronavirus',\n",
       " 'Sarbecovirus']"
      ]
     },
     "execution_count": 113,
     "metadata": {},
     "output_type": "execute_result"
    }
   ],
   "source": [
    "genbank_record.annotations[\"taxonomy\"]"
   ]
  },
  {
   "cell_type": "markdown",
   "metadata": {},
   "source": [
    "<div class=\"alert alert-block alert-warning\">\n",
    "<b>2. What are the relevant references/labs who generated the data?"
   ]
  },
  {
   "cell_type": "code",
   "execution_count": 114,
   "metadata": {},
   "outputs": [
    {
     "name": "stdout",
     "output_type": "stream",
     "text": [
      "location: [0:935]\n",
      "authors: Hillen,H.S., Kokic,G., Farnung,L., Dienemann,C., Tegunov,D. and Cramer,P.\n",
      "title: Structure of replicating SARS-CoV-2 polymerase\n",
      "journal: Nature (2020) In press\n",
      "medline id: \n",
      "pubmed id: 32438371\n",
      "comment: Publication Status: Available-Online prior to print\n",
      "\n",
      "location: [0:935]\n",
      "authors: Hillen,H.S., Kokic,G., Farnung,L., Dienemann,C., Tegunov,D. and Cramer,P.\n",
      "title: Direct Submission\n",
      "journal: Submitted (06-MAY-2020)\n",
      "medline id: \n",
      "pubmed id: \n",
      "comment: \n",
      "\n"
     ]
    }
   ],
   "source": [
    "for reference in genbank_record.annotations[\"references\"]:\n",
    "    print(reference)"
   ]
  },
  {
   "cell_type": "markdown",
   "metadata": {},
   "source": [
    "<div class=\"alert alert-block alert-warning\">\n",
    "<b>3. Retrieve the protein coding sequences (CDSs) from the Genbank record </b>(in case of DNA)\n",
    "    <br><br><center><em><b>OR</b></em></center><br>\n",
    "<b>3. Retrive the features of the protein</b>(in case of Protein)"
   ]
  },
  {
   "cell_type": "code",
   "execution_count": 115,
   "metadata": {},
   "outputs": [
    {
     "data": {
      "text/plain": [
       "75"
      ]
     },
     "execution_count": 115,
     "metadata": {},
     "output_type": "execute_result"
    }
   ],
   "source": [
    "# number of features\n",
    "len(genbank_record.features)"
   ]
  },
  {
   "cell_type": "code",
   "execution_count": 116,
   "metadata": {},
   "outputs": [
    {
     "data": {
      "text/plain": [
       "{'Het', 'Region', 'SecStr', 'Site', 'source'}"
      ]
     },
     "execution_count": 116,
     "metadata": {},
     "output_type": "execute_result"
    }
   ],
   "source": [
    "#list features\n",
    "{feature.type for feature in genbank_record.features}"
   ]
  },
  {
   "cell_type": "code",
   "execution_count": 117,
   "metadata": {},
   "outputs": [],
   "source": [
    "# finding the CDS\n",
    "# CDSs = [feature for feature in genbank_record.features if feature.type == \"CDS\"]\n",
    "# len(CDSs)"
   ]
  },
  {
   "cell_type": "code",
   "execution_count": 118,
   "metadata": {},
   "outputs": [],
   "source": [
    "# listing the gene\n",
    "# CDSs[0].qualifiers[\"gene\"]"
   ]
  },
  {
   "cell_type": "code",
   "execution_count": 119,
   "metadata": {},
   "outputs": [],
   "source": [
    "# hunting for it's protein\n",
    "# protein_seq = Seq(CDSs[0].qualifiers[\"translation\"][0])"
   ]
  },
  {
   "cell_type": "markdown",
   "metadata": {},
   "source": [
    "<div class=\"alert alert-block alert-warning\">\n",
    "<b>4. Does the protein sequence start with a \"start codon\" ?"
   ]
  },
  {
   "cell_type": "code",
   "execution_count": 120,
   "metadata": {},
   "outputs": [
    {
     "data": {
      "text/plain": [
       "False"
      ]
     },
     "execution_count": 120,
     "metadata": {},
     "output_type": "execute_result"
    }
   ],
   "source": [
    "genbank_record.seq.startswith(\"M\")"
   ]
  },
  {
   "cell_type": "code",
   "execution_count": 121,
   "metadata": {},
   "outputs": [
    {
     "name": "stdout",
     "output_type": "stream",
     "text": [
      "Table 1 Standard, SGC0\n",
      "\n",
      "  |  T      |  C      |  A      |  G      |\n",
      "--+---------+---------+---------+---------+--\n",
      "T | TTT F   | TCT S   | TAT Y   | TGT C   | T\n",
      "T | TTC F   | TCC S   | TAC Y   | TGC C   | C\n",
      "T | TTA L   | TCA S   | TAA Stop| TGA Stop| A\n",
      "T | TTG L(s)| TCG S   | TAG Stop| TGG W   | G\n",
      "--+---------+---------+---------+---------+--\n",
      "C | CTT L   | CCT P   | CAT H   | CGT R   | T\n",
      "C | CTC L   | CCC P   | CAC H   | CGC R   | C\n",
      "C | CTA L   | CCA P   | CAA Q   | CGA R   | A\n",
      "C | CTG L(s)| CCG P   | CAG Q   | CGG R   | G\n",
      "--+---------+---------+---------+---------+--\n",
      "A | ATT I   | ACT T   | AAT N   | AGT S   | T\n",
      "A | ATC I   | ACC T   | AAC N   | AGC S   | C\n",
      "A | ATA I   | ACA T   | AAA K   | AGA R   | A\n",
      "A | ATG M(s)| ACG T   | AAG K   | AGG R   | G\n",
      "--+---------+---------+---------+---------+--\n",
      "G | GTT V   | GCT A   | GAT D   | GGT G   | T\n",
      "G | GTC V   | GCC A   | GAC D   | GGC G   | C\n",
      "G | GTA V   | GCA A   | GAA E   | GGA G   | A\n",
      "G | GTG V   | GCG A   | GAG E   | GGG G   | G\n",
      "--+---------+---------+---------+---------+--\n"
     ]
    }
   ],
   "source": [
    "print(CodonTable.unambiguous_dna_by_id[1])"
   ]
  },
  {
   "cell_type": "markdown",
   "metadata": {},
   "source": [
    "## 5.2. Sequence visualisation\n",
    "\n",
    "- [DNA features viewer](https://github.com/Edinburgh-Genome-Foundry/DnaFeaturesViewer) allows to plot nucleotide or amino acid sequences under the record plot:"
   ]
  },
  {
   "cell_type": "code",
   "execution_count": 147,
   "metadata": {},
   "outputs": [
    {
     "data": {
      "image/png": "[encoded data removed]",
      "text/plain": [
       "<Figure size 1080x763.2 with 1 Axes>"
      ]
     },
     "metadata": {},
     "output_type": "display_data"
    }
   ],
   "source": [
    "from dna_features_viewer import BiopythonTranslator\n",
    "\n",
    "graphic_record = BiopythonTranslator().translate_record(genbank_record)\n",
    "\n",
    "plot = graphic_record.plot(figure_width=15,\n",
    "                            strand_in_label_threshold=5)"
   ]
  },
  {
   "cell_type": "code",
   "execution_count": 149,
   "metadata": {},
   "outputs": [],
   "source": [
    "# plot"
   ]
  },
  {
   "cell_type": "markdown",
   "metadata": {},
   "source": [
    "#### This enables for instance to plot an overview of a sequence along with a detailed detail of a sequence subsegment"
   ]
  },
  {
   "cell_type": "code",
   "execution_count": 123,
   "metadata": {},
   "outputs": [
    {
     "data": {
      "application/javascript": [
       "\n",
       "        if (window._pyforest_update_imports_cell) { window._pyforest_update_imports_cell('import matplotlib.pyplot as plt'); }\n",
       "    "
      ],
      "text/plain": [
       "<IPython.core.display.Javascript object>"
      ]
     },
     "metadata": {},
     "output_type": "display_data"
    },
    {
     "data": {
      "application/javascript": [
       "\n",
       "        if (window._pyforest_update_imports_cell) { window._pyforest_update_imports_cell('import matplotlib.pyplot as plt\\nimport numpy as np'); }\n",
       "    "
      ],
      "text/plain": [
       "<IPython.core.display.Javascript object>"
      ]
     },
     "metadata": {},
     "output_type": "display_data"
    },
    {
     "data": {
      "text/plain": [
       "Text(0, 0.5, 'GC(%)')"
      ]
     },
     "execution_count": 123,
     "metadata": {},
     "output_type": "execute_result"
    },
    {
     "data": {
      "image/png": "[encoded data removed]",
      "text/plain": [
       "<Figure size 1440x720 with 2 Axes>"
      ]
     },
     "metadata": {
      "needs_background": "light"
     },
     "output_type": "display_data"
    }
   ],
   "source": [
    "# Incase of DNA\n",
    "\n",
    "# from Bio.SeqRecord import SeqRecord\n",
    "# import matplotlib.pyplot as plt\n",
    "# from Bio import SeqIO\n",
    "# import numpy as np\n",
    "\n",
    "from dna_features_viewer import BiopythonTranslator\n",
    "\n",
    "\n",
    "fig, (ax1, ax2) = plt.subplots(\n",
    "    2, 1, figsize=(20, 10), sharex=True, gridspec_kw={\"height_ratios\": [4, 1]}\n",
    ")\n",
    "\n",
    "# PLOT THE RECORD MAP\n",
    "# record = SeqIO.read(entrez_record,\"genbank\")\n",
    "\n",
    "record = genbank_record \n",
    "graphic_record = BiopythonTranslator().translate_record(record)\n",
    "graphic_record.plot(ax=ax1, with_ruler=False,\n",
    "                    strand_in_label_threshold=4)\n",
    "\n",
    "# PLOT THE LOCAL GC CONTENT (we use 50bp windows)\n",
    "\n",
    "gc = lambda s: 100.0 * len([c for c in s if c in \"GC\"]) / 50\n",
    "\n",
    "xx = np.arange(len(record.seq) - 50)\n",
    "yy = [gc(record.seq[x : x + 50]) for x in xx]\n",
    "ax2.fill_between(xx + 25, yy, alpha=0.3)\n",
    "ax2.set_ylim(bottom=0)\n",
    "ax2.set_ylabel(\"GC(%)\")"
   ]
  },
  {
   "cell_type": "markdown",
   "metadata": {},
   "source": [
    "## 6. 3D structure visualisation of proteins"
   ]
  },
  {
   "cell_type": "markdown",
   "metadata": {},
   "source": [
    "#### Inorder to visualise the protein we need to fetch the pdb file from pdb database"
   ]
  },
  {
   "cell_type": "markdown",
   "metadata": {},
   "source": [
    "#### We'll use `PDBParser` & `MMCIFParser` for this purpose"
   ]
  },
  {
   "cell_type": "markdown",
   "metadata": {},
   "source": [
    "## 6.1. retreiving PDB structure from RCSB-PDB"
   ]
  },
  {
   "cell_type": "code",
   "execution_count": 124,
   "metadata": {},
   "outputs": [
    {
     "data": {
      "text/plain": [
       "('6YYT.pdb', <http.client.HTTPMessage at 0x1686c2ca790>)"
      ]
     },
     "execution_count": 124,
     "metadata": {},
     "output_type": "execute_result"
    }
   ],
   "source": [
    "# link format https://files.rcsb.org/download/6YYT.pdb\n",
    "\n",
    "urllib.request.urlretrieve('https://files.rcsb.org/download/6YYT.pdb',\n",
    "                           'Data/6YYT.pdb')"
   ]
  },
  {
   "cell_type": "markdown",
   "metadata": {},
   "source": [
    "## 6.2. Reading the PDB structure"
   ]
  },
  {
   "cell_type": "code",
   "execution_count": 125,
   "metadata": {},
   "outputs": [
    {
     "name": "stderr",
     "output_type": "stream",
     "text": [
      "C:\\Users\\hunak\\anaconda3\\lib\\site-packages\\Bio\\PDB\\StructureBuilder.py:89: PDBConstructionWarning: WARNING: Chain A is discontinuous at line 12058.\n",
      "  warnings.warn(\n"
     ]
    }
   ],
   "source": [
    "parser = PDBParser()\n",
    "structure = parser.get_structure(\"6YYT\",\"Data/6YYT.pdb\")"
   ]
  },
  {
   "cell_type": "code",
   "execution_count": 126,
   "metadata": {},
   "outputs": [
    {
     "data": {
      "text/plain": [
       "<Structure id=6YYT>"
      ]
     },
     "execution_count": 126,
     "metadata": {},
     "output_type": "execute_result"
    }
   ],
   "source": [
    "structure"
   ]
  },
  {
   "cell_type": "markdown",
   "metadata": {},
   "source": [
    "## 6.2.1. Identifying the number of chains & atoms"
   ]
  },
  {
   "cell_type": "code",
   "execution_count": 127,
   "metadata": {},
   "outputs": [
    {
     "name": "stdout",
     "output_type": "stream",
     "text": [
      "chain: <Chain id=A>, chainid: A\n",
      "chain: <Chain id=B>, chainid: B\n",
      "chain: <Chain id=C>, chainid: C\n",
      "chain: <Chain id=D>, chainid: D\n",
      "chain: <Chain id=P>, chainid: P\n",
      "chain: <Chain id=Q>, chainid: Q\n",
      "chain: <Chain id=T>, chainid: T\n",
      "chain: <Chain id=U>, chainid: U\n"
     ]
    }
   ],
   "source": [
    "for chain in structure[0]:\n",
    "    print(f\"chain: {chain}, chainid: {chain.id}\")"
   ]
  },
  {
   "cell_type": "code",
   "execution_count": 128,
   "metadata": {},
   "outputs": [
    {
     "name": "stdout",
     "output_type": "stream",
     "text": [
      "<Model id=0>\n",
      "<Chain id=A>\n",
      "<Chain id=B>\n",
      "<Chain id=C>\n",
      "<Chain id=D>\n",
      "<Chain id=P>\n",
      "<Chain id=Q>\n",
      "<Chain id=T>\n",
      "<Chain id=U>\n"
     ]
    }
   ],
   "source": [
    "# Check the atoms\n",
    "\n",
    "for model in structure:\n",
    "    print(model)\n",
    "    for chain in model:\n",
    "        print(chain)\n",
    "#         for residue in chain:\n",
    "#             for atom in residue:\n",
    "#                 print(atom)"
   ]
  },
  {
   "cell_type": "markdown",
   "metadata": {},
   "source": [
    "## 6.3. Visualising Protein structure"
   ]
  },
  {
   "cell_type": "markdown",
   "metadata": {},
   "source": [
    "#### we'll make use of `nglview` & `py3dmol`"
   ]
  },
  {
   "cell_type": "markdown",
   "metadata": {},
   "source": [
    "## 6.3.1. `nglview`"
   ]
  },
  {
   "cell_type": "code",
   "execution_count": 129,
   "metadata": {},
   "outputs": [
    {
     "data": {
      "application/vnd.jupyter.widget-view+json": {
       "model_id": "81870e3679ee47eea7661241513d7a92",
       "version_major": 2,
       "version_minor": 0
      },
      "text/plain": [
       "NGLWidget()"
      ]
     },
     "metadata": {},
     "output_type": "display_data"
    }
   ],
   "source": [
    "nv.demo()"
   ]
  },
  {
   "cell_type": "code",
   "execution_count": 130,
   "metadata": {},
   "outputs": [
    {
     "data": {
      "application/vnd.jupyter.widget-view+json": {
       "model_id": "41f41ac846a44097b2dc5d334447dfad",
       "version_major": 2,
       "version_minor": 0
      },
      "text/plain": [
       "NGLWidget()"
      ]
     },
     "metadata": {},
     "output_type": "display_data"
    }
   ],
   "source": [
    "view1 = nv.show_biopython(structure)\n",
    "view1"
   ]
  },
  {
   "cell_type": "markdown",
   "metadata": {},
   "source": [
    "## 6.3.1.2 capturing the current posture"
   ]
  },
  {
   "cell_type": "code",
   "execution_count": 131,
   "metadata": {
    "scrolled": true
   },
   "outputs": [
    {
     "data": {
      "application/vnd.jupyter.widget-view+json": {
       "model_id": "aef6683270984e4b86109ac95298bb73",
       "version_major": 2,
       "version_minor": 0
      },
      "text/plain": [
       "Image(value=b'', width='99%')"
      ]
     },
     "metadata": {},
     "output_type": "display_data"
    }
   ],
   "source": [
    "view1.render_image()"
   ]
  },
  {
   "cell_type": "markdown",
   "metadata": {},
   "source": [
    "## 6.3.2. `py3Dmol`"
   ]
  },
  {
   "cell_type": "code",
   "execution_count": 132,
   "metadata": {},
   "outputs": [],
   "source": [
    "view2 = py3Dmol.view(query='pdb:6YYT')"
   ]
  },
  {
   "cell_type": "code",
   "execution_count": 133,
   "metadata": {},
   "outputs": [
    {
     "data": {
      "application/3dmoljs_load.v0": "<div id=\"3dmolviewer_15973207101906023\"  style=\"position: relative; width: 640px; height: 480px\">\n        <p id=\"3dmolwarning_15973207101906023\" style=\"background-color:#ffcccc;color:black\">You appear to be running in JupyterLab (or JavaScript failed to load for some other reason).  You need to install the 3dmol extension: <br>\n        <tt>jupyter labextension install jupyterlab_3dmol</tt></p>\n        </div>\n<script>\n\nvar loadScriptAsync = function(uri){\n  return new Promise((resolve, reject) => {\n    var tag = document.createElement('script');\n    tag.src = uri;\n    tag.async = true;\n    tag.onload = () => {\n      resolve();\n    };\n  var firstScriptTag = document.getElementsByTagName('script')[0];\n  firstScriptTag.parentNode.insertBefore(tag, firstScriptTag);\n});\n};\n\nif(typeof $3Dmolpromise === 'undefined') {\n$3Dmolpromise = null;\n  $3Dmolpromise = loadScriptAsync('https://3dmol.csb.pitt.edu/build/3Dmol.js');\n}\n\nvar viewer_15973207101906023 = null;\nvar warn = document.getElementById(\"3dmolwarning_15973207101906023\");\nif(warn) {\n    warn.parentNode.removeChild(warn);\n}\n$3Dmolpromise.then(function() {\nviewer_15973207101906023 = $3Dmol.createViewer($(\"#3dmolviewer_15973207101906023\"),{backgroundColor:\"white\"});\n$3Dmol.download(\"pdb:6YYT\", viewer_15973207101906023, {}, function() {\n\tviewer_15973207101906023.setStyle({\"cartoon\": {\"color\": \"spectrum\"}});\nviewer_15973207101906023.render();\n})\n});\n</script>",
      "text/html": [
       "<div id=\"3dmolviewer_15973207101906023\"  style=\"position: relative; width: 640px; height: 480px\">\n",
       "        <p id=\"3dmolwarning_15973207101906023\" style=\"background-color:#ffcccc;color:black\">You appear to be running in JupyterLab (or JavaScript failed to load for some other reason).  You need to install the 3dmol extension: <br>\n",
       "        <tt>jupyter labextension install jupyterlab_3dmol</tt></p>\n",
       "        </div>\n",
       "<script>\n",
       "\n",
       "var loadScriptAsync = function(uri){\n",
       "  return new Promise((resolve, reject) => {\n",
       "    var tag = document.createElement('script');\n",
       "    tag.src = uri;\n",
       "    tag.async = true;\n",
       "    tag.onload = () => {\n",
       "      resolve();\n",
       "    };\n",
       "  var firstScriptTag = document.getElementsByTagName('script')[0];\n",
       "  firstScriptTag.parentNode.insertBefore(tag, firstScriptTag);\n",
       "});\n",
       "};\n",
       "\n",
       "if(typeof $3Dmolpromise === 'undefined') {\n",
       "$3Dmolpromise = null;\n",
       "  $3Dmolpromise = loadScriptAsync('https://3dmol.csb.pitt.edu/build/3Dmol.js');\n",
       "}\n",
       "\n",
       "var viewer_15973207101906023 = null;\n",
       "var warn = document.getElementById(\"3dmolwarning_15973207101906023\");\n",
       "if(warn) {\n",
       "    warn.parentNode.removeChild(warn);\n",
       "}\n",
       "$3Dmolpromise.then(function() {\n",
       "viewer_15973207101906023 = $3Dmol.createViewer($(\"#3dmolviewer_15973207101906023\"),{backgroundColor:\"white\"});\n",
       "$3Dmol.download(\"pdb:6YYT\", viewer_15973207101906023, {}, function() {\n",
       "\tviewer_15973207101906023.setStyle({\"cartoon\": {\"color\": \"spectrum\"}});\n",
       "viewer_15973207101906023.render();\n",
       "})\n",
       "});\n",
       "</script>"
      ]
     },
     "metadata": {},
     "output_type": "display_data"
    },
    {
     "data": {
      "text/plain": [
       "<py3Dmol.view at 0x1686bd46df0>"
      ]
     },
     "execution_count": 133,
     "metadata": {},
     "output_type": "execute_result"
    }
   ],
   "source": [
    "view2.setStyle({\n",
    "    'cartoon':{'color':'spectrum'}\n",
    "})"
   ]
  },
  {
   "cell_type": "code",
   "execution_count": 134,
   "metadata": {},
   "outputs": [
    {
     "data": {
      "application/3dmoljs_load.v0": "<div id=\"3dmolviewer_15973207102086034\"  style=\"position: relative; width: 640px; height: 480px\">\n        <p id=\"3dmolwarning_15973207102086034\" style=\"background-color:#ffcccc;color:black\">You appear to be running in JupyterLab (or JavaScript failed to load for some other reason).  You need to install the 3dmol extension: <br>\n        <tt>jupyter labextension install jupyterlab_3dmol</tt></p>\n        </div>\n<script>\n\nvar loadScriptAsync = function(uri){\n  return new Promise((resolve, reject) => {\n    var tag = document.createElement('script');\n    tag.src = uri;\n    tag.async = true;\n    tag.onload = () => {\n      resolve();\n    };\n  var firstScriptTag = document.getElementsByTagName('script')[0];\n  firstScriptTag.parentNode.insertBefore(tag, firstScriptTag);\n});\n};\n\nif(typeof $3Dmolpromise === 'undefined') {\n$3Dmolpromise = null;\n  $3Dmolpromise = loadScriptAsync('https://3dmol.csb.pitt.edu/build/3Dmol.js');\n}\n\nvar viewer_15973207102086034 = null;\nvar warn = document.getElementById(\"3dmolwarning_15973207102086034\");\nif(warn) {\n    warn.parentNode.removeChild(warn);\n}\n$3Dmolpromise.then(function() {\nviewer_15973207102086034 = $3Dmol.createViewer($(\"#3dmolviewer_15973207102086034\"),{backgroundColor:\"white\"});\n$3Dmol.download(\"pdb:6YYT\", viewer_15973207102086034, {}, function() {\n\tviewer_15973207102086034.setStyle({\"cartoon\": {\"color\": \"spectrum\"}});\n\tviewer_15973207102086034.display_image();\nviewer_15973207102086034.render();\n})\n});\n</script>",
      "text/html": [
       "<div id=\"3dmolviewer_15973207102086034\"  style=\"position: relative; width: 640px; height: 480px\">\n",
       "        <p id=\"3dmolwarning_15973207102086034\" style=\"background-color:#ffcccc;color:black\">You appear to be running in JupyterLab (or JavaScript failed to load for some other reason).  You need to install the 3dmol extension: <br>\n",
       "        <tt>jupyter labextension install jupyterlab_3dmol</tt></p>\n",
       "        </div>\n",
       "<script>\n",
       "\n",
       "var loadScriptAsync = function(uri){\n",
       "  return new Promise((resolve, reject) => {\n",
       "    var tag = document.createElement('script');\n",
       "    tag.src = uri;\n",
       "    tag.async = true;\n",
       "    tag.onload = () => {\n",
       "      resolve();\n",
       "    };\n",
       "  var firstScriptTag = document.getElementsByTagName('script')[0];\n",
       "  firstScriptTag.parentNode.insertBefore(tag, firstScriptTag);\n",
       "});\n",
       "};\n",
       "\n",
       "if(typeof $3Dmolpromise === 'undefined') {\n",
       "$3Dmolpromise = null;\n",
       "  $3Dmolpromise = loadScriptAsync('https://3dmol.csb.pitt.edu/build/3Dmol.js');\n",
       "}\n",
       "\n",
       "var viewer_15973207102086034 = null;\n",
       "var warn = document.getElementById(\"3dmolwarning_15973207102086034\");\n",
       "if(warn) {\n",
       "    warn.parentNode.removeChild(warn);\n",
       "}\n",
       "$3Dmolpromise.then(function() {\n",
       "viewer_15973207102086034 = $3Dmol.createViewer($(\"#3dmolviewer_15973207102086034\"),{backgroundColor:\"white\"});\n",
       "$3Dmol.download(\"pdb:6YYT\", viewer_15973207102086034, {}, function() {\n",
       "\tviewer_15973207102086034.setStyle({\"cartoon\": {\"color\": \"spectrum\"}});\n",
       "\tviewer_15973207102086034.display_image();\n",
       "viewer_15973207102086034.render();\n",
       "})\n",
       "});\n",
       "</script>"
      ]
     },
     "metadata": {},
     "output_type": "display_data"
    },
    {
     "data": {
      "text/plain": [
       "<py3Dmol.view at 0x1686bd46df0>"
      ]
     },
     "execution_count": 134,
     "metadata": {},
     "output_type": "execute_result"
    }
   ],
   "source": [
    "view2.display_image()"
   ]
  },
  {
   "cell_type": "markdown",
   "metadata": {},
   "source": [
    "## BONUS\n",
    "\n",
    "- listing modules in the current jupyter notebook\n",
    "- exporting the list of modules used in the current notebook to .txt file"
   ]
  },
  {
   "cell_type": "code",
   "execution_count": 135,
   "metadata": {},
   "outputs": [
    {
     "data": {
      "text/plain": [
       "['builtins',\n",
       " 'builtins',\n",
       " 'pyforest._importable',\n",
       " 'pyforest.user_specific_imports',\n",
       " 'pyforest._imports',\n",
       " 'pandas',\n",
       " 'pyforest.utils',\n",
       " 'pyforest',\n",
       " 'Bio',\n",
       " 'heapq',\n",
       " 'pylab',\n",
       " 'urllib',\n",
       " 'py3Dmol',\n",
       " 'nglview',\n",
       " 'Bio.Blast.NCBIWWW',\n",
       " 'Bio.Alphabet.IUPAC',\n",
       " 'Bio.Data.CodonTable',\n",
       " 'Bio.SeqIO',\n",
       " 'Bio.SearchIO',\n",
       " 'Bio.Entrez',\n",
       " 'types']"
      ]
     },
     "execution_count": 135,
     "metadata": {},
     "output_type": "execute_result"
    }
   ],
   "source": [
    "# Listing currently used packages\n",
    "\n",
    "import types\n",
    "def imports():\n",
    "    for name, val in globals().items():\n",
    "        if isinstance(val, types.ModuleType):\n",
    "            yield val.__name__\n",
    "list(imports())"
   ]
  },
  {
   "cell_type": "code",
   "execution_count": 136,
   "metadata": {},
   "outputs": [],
   "source": [
    "# writing package names to a file\n",
    "\n",
    "with open(\"requirements.txt\",\"w\") as req:\n",
    "    req.write(str(list(imports())))\n"
   ]
  },
  {
   "cell_type": "markdown",
   "metadata": {},
   "source": [
    "## Reference:\n",
    "1. http://biopython.org/DIST/docs/tutorial/Tutorial.html\n",
    "2. https://krother.gitbooks.io/biopython-tutorial/content/first_steps.html\n",
    "3. https://www.rcsb.org/pdb/software/static.do?p=/software/webservices/search_nmr.jsp\n",
    "4. https://www.ncbi.nlm.nih.gov/books/NBK25499/#chapter4.EFetch\n",
    "4. https://www.ncbi.nlm.nih.gov/pmc/articles/PMC6031024/\n",
    "5. https://github.com/Edinburgh-Genome-Foundry/DnaFeaturesViewer"
   ]
  }
 ],
 "metadata": {
  "kernelspec": {
   "display_name": "Python 3",
   "language": "python",
   "name": "python3"
  },
  "language_info": {
   "codemirror_mode": {
    "name": "ipython",
    "version": 3
   },
   "file_extension": ".py",
   "mimetype": "text/x-python",
   "name": "python",
   "nbconvert_exporter": "python",
   "pygments_lexer": "ipython3",
   "version": "3.8.5"
  }
 },
 "nbformat": 4,
 "nbformat_minor": 4
}
