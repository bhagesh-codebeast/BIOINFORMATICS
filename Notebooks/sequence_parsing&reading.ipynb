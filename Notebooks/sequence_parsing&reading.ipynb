{
 "cells": [
  {
   "cell_type": "markdown",
   "metadata": {},
   "source": [
    "# Parsing & Reading Bioinformatics Files Using Biopython"
   ]
  },
  {
   "cell_type": "markdown",
   "metadata": {},
   "source": [
    "## Modules For Parsing & Reading Files"
   ]
  },
  {
   "cell_type": "markdown",
   "metadata": {},
   "source": [
    "## Parsing"
   ]
  },
  {
   "cell_type": "markdown",
   "metadata": {},
   "source": [
    "<div class=\"alert alert-block alert-info\">\n",
    "from Bio.SeqIO import parse<br>\n",
    "for seq_record in parse(\"*path of your genbank file\",\"fasta/genbank*\")\n",
    "</div>"
   ]
  },
  {
   "cell_type": "markdown",
   "metadata": {},
   "source": [
    "## Reading"
   ]
  },
  {
   "cell_type": "markdown",
   "metadata": {},
   "source": [
    "<div class=\"alert alert-block alert-info\">\n",
    "from Bio.SeqIO import read<br>\n",
    "seq_record = SeqIO.read(\"*path of your single fasta file\",\"fasta/genbank*\")\n",
    "    </div>"
   ]
  },
  {
   "cell_type": "markdown",
   "metadata": {},
   "source": [
    "## FastQ"
   ]
  },
  {
   "cell_type": "code",
   "execution_count": null,
   "metadata": {},
   "outputs": [],
   "source": [
    "from Bio import SeqIO\n",
    "for seq_record in SeqIO.parse(\"Data\\SRR.fastq\", \"fastq\"):\n",
    "    print(seq_record.id[:10])"
   ]
  },
  {
   "cell_type": "markdown",
   "metadata": {},
   "source": [
    "## GenBank"
   ]
  },
  {
   "cell_type": "code",
   "execution_count": null,
   "metadata": {},
   "outputs": [],
   "source": [
    "from Bio import SeqIO\n",
    "for seq_record in SeqIO.parse(\"Data\\sequence.gb\", \"genbank\"):\n",
    "    print(seq_record.seq[:10])\n",
    "    print(seq_record.id)\n",
    "    print(seq_record.name)\n",
    "    print(seq_record.description)"
   ]
  },
  {
   "cell_type": "markdown",
   "metadata": {},
   "source": [
    "## Fasta"
   ]
  },
  {
   "cell_type": "code",
   "execution_count": null,
   "metadata": {},
   "outputs": [],
   "source": [
    "from Bio.SeqIO import parse\n",
    "for seq_record in parse(\"Data/Sequence.fasta\",\"fasta\"):\n",
    "    print(seq_record)\n",
    "    print(seq_record.seq[:10])\n",
    "    print(seq_record.id)\n",
    "    print(seq_record.name)\n",
    "    print(seq_record.description)"
   ]
  },
  {
   "cell_type": "markdown",
   "metadata": {},
   "source": [
    "## PDB"
   ]
  },
  {
   "cell_type": "code",
   "execution_count": null,
   "metadata": {},
   "outputs": [],
   "source": [
    "from Bio.PDB.PDBParser import PDBParser\n",
    "parser = PDBParser()\n",
    "\n",
    "structure = parser.get_structure(\"test\", \"Data/6YYT.pdb\")\n",
    "\n",
    "\n",
    "for model in structure:\n",
    "    print(model)\n",
    "    for chain in model:\n",
    "        print(chain)\n",
    "        for residue in chain:\n",
    "            print(residue)\n",
    "            for atom in residue:\n",
    "                print(atom)"
   ]
  }
 ],
 "metadata": {
  "kernelspec": {
   "display_name": "Python 3",
   "language": "python",
   "name": "python3"
  },
  "language_info": {
   "codemirror_mode": {
    "name": "ipython",
    "version": 3
   },
   "file_extension": ".py",
   "mimetype": "text/x-python",
   "name": "python",
   "nbconvert_exporter": "python",
   "pygments_lexer": "ipython3",
   "version": "3.8.5"
  }
 },
 "nbformat": 4,
 "nbformat_minor": 4
}
